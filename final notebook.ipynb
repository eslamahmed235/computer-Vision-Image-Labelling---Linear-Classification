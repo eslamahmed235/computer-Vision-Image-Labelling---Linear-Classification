{
 "cells": [
  {
   "cell_type": "markdown",
   "metadata": {},
   "source": [
    "# Assignment 1  computer Vision ELG7186[EI]\n"
   ]
  },
  {
   "cell_type": "markdown",
   "metadata": {},
   "source": [
    "#### **Name:Eslam Ahmed Abdelrahman Mahmoud           <br> ID:300267020**\n"
   ]
  },
  {
   "cell_type": "markdown",
   "metadata": {
    "id": "68Haau3rXNrd"
   },
   "source": [
    "**please upload attached samples.zip file**"
   ]
  },
  {
   "cell_type": "code",
   "execution_count": 1,
   "metadata": {
    "colab": {
     "base_uri": "https://localhost:8080/",
     "height": 73,
     "resources": {
      "http://localhost:8080/nbextensions/google.colab/files.js": {
       "data": "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",
       "headers": [
        [
         "content-type",
         "application/javascript"
        ]
       ],
       "ok": true,
       "status": 200,
       "status_text": ""
      }
     }
    },
    "id": "R3UZjCVJaiz-",
    "outputId": "45b8427b-d692-4169-a2f9-4aad67d27a44"
   },
   "outputs": [
    {
     "data": {
      "application/vnd.jupyter.widget-view+json": {
       "model_id": "45a84455992543d99b965dfeb3094057",
       "version_major": 2,
       "version_minor": 0
      },
      "text/plain": [
       "FileUpload(value={}, description='Upload')"
      ]
     },
     "metadata": {},
     "output_type": "display_data"
    }
   ],
   "source": [
    "from ipywidgets import FileUpload\n",
    "upload = FileUpload()\n",
    "upload\n"
   ]
  },
  {
   "cell_type": "code",
   "execution_count": 2,
   "metadata": {
    "colab": {
     "base_uri": "https://localhost:8080/"
    },
    "id": "U9FfL8_iXNVt",
    "outputId": "4a8276bb-aad6-4af5-9c77-ab8890ecd208"
   },
   "outputs": [],
   "source": [
    "import glob \n",
    "import matplotlib.pyplot as plt\n",
    "import matplotlib.image as mpimg\n",
    "import skimage\n",
    "from skimage import io\n",
    "from skimage.transform import resize\n",
    "import numpy as np\n",
    "import pandas as pd\n",
    "from sklearn.model_selection import train_test_split\n",
    "\n",
    "from sklearn.metrics import confusion_matrix\n",
    "from sklearn.metrics import precision_score, recall_score, f1_score, accuracy_score\n",
    "from sklearn.metrics import roc_curve, auc, roc_auc_score\n",
    "from sklearn import metrics\n",
    "from sklearn.neural_network import MLPClassifier\n",
    "from sklearn.metrics import plot_confusion_matrix\n"
   ]
  },
  {
   "cell_type": "code",
   "execution_count": 3,
   "metadata": {
    "id": "ftJr84GFgE-k"
   },
   "outputs": [],
   "source": [
    "import zipfile as zf\n",
    "files = zf.ZipFile(\"samples.zip\", 'r')\n",
    "files.extractall('samples')\n",
    "files.close()"
   ]
  },
  {
   "cell_type": "markdown",
   "metadata": {
    "id": "WYX9ciqNkBqU"
   },
   "source": [
    "## 1.1 Getting Started [3] \n"
   ]
  },
  {
   "cell_type": "markdown",
   "metadata": {},
   "source": [
    "Save data from samples folder"
   ]
  },
  {
   "cell_type": "code",
   "execution_count": 4,
   "metadata": {
    "id": "c7G0LUeaXzS0"
   },
   "outputs": [],
   "source": [
    "data_0 = [skimage.io.imread(file) for file in glob.glob(\"samples/Sample_0/*.png\")]\n",
    "data_8 = [skimage.io.imread(file) for file in glob.glob(\"samples/Sample_8/*.png\")]\n",
    "data_G = [skimage.io.imread(file) for file in glob.glob(\"samples/Sample_G/*.png\")]\n",
    "data_q = [skimage.io.imread(file) for file in glob.glob(\"samples/Sample_q/*.png\")]\n"
   ]
  },
  {
   "cell_type": "markdown",
   "metadata": {},
   "source": [
    " __preprocess on our picture__ \n",
    "<br> convert to gray\n",
    "<br>set size to 128x128"
   ]
  },
  {
   "cell_type": "code",
   "execution_count": 5,
   "metadata": {
    "id": "yA7kCqHZi834"
   },
   "outputs": [
    {
     "name": "stderr",
     "output_type": "stream",
     "text": [
      "<ipython-input-5-ea673a0c5b51>:6: FutureWarning: The behavior of rgb2gray will change in scikit-image 0.19. Currently, rgb2gray allows 2D grayscale image to be passed as inputs and leaves them unmodified as outputs. Starting from version 0.19, 2D arrays will be treated as 1D images with 3 channels.\n",
      "  img = skimage.color.rgb2gray(img)\n"
     ]
    }
   ],
   "source": [
    "pre_data_0 , pre_data_8 , pre_data_G , pre_data_q = [],[],[],[]\n",
    "\n",
    "def preprocess(data,pre):\n",
    "    for i in range(len(data)):  \n",
    "        img = data[i]\n",
    "        img = skimage.color.rgb2gray(img)\n",
    "        img = resize(img,(128,128))\n",
    "        img = np.array(img)\n",
    "        pre.append(img)\n",
    "        \n",
    "    return np.array(pre)\n",
    "\n",
    "#presprocess data\n",
    "preprocess(data_0,pre_data_0)\n",
    "preprocess(data_8,pre_data_8)\n",
    "preprocess(data_G,pre_data_G)\n",
    "preprocess(data_q,pre_data_q)\n",
    "\n",
    "pre_All_data = np.array(pre_data_0 + pre_data_q + pre_data_G+pre_data_8)\n",
    "\n",
    "pre_All_data = pre_All_data.reshape(len(pre_All_data),-1)"
   ]
  },
  {
   "cell_type": "markdown",
   "metadata": {},
   "source": [
    "Create lable to our data"
   ]
  },
  {
   "cell_type": "code",
   "execution_count": 6,
   "metadata": {
    "id": "r9dsxyttjPQn"
   },
   "outputs": [],
   "source": [
    "K=[]\n",
    "K[:148]=148*[0] #maps to the class \"o\"\n",
    "K[148:203]=54*[1] #maps to class \"q\"\n",
    "K[203:346]=143*[2] #maps to class \"G\"\n",
    "K[346:]=32*[3]  #maps to class \"8\"\n",
    "K=np.array(K)\n",
    "\n",
    "Data = np.column_stack((K, pre_All_data))\n",
    "\n",
    "O_Q_data = Data[0:202,]\n",
    "X_O_Q_data = O_Q_data[:,1:]\n",
    "y_O_Q_data = O_Q_data[:,0]\n",
    "\n",
    "G_8_data = Data[202:,]\n",
    "X_G_8_data = G_8_data[:,1:]\n",
    "y_G_8_data = G_8_data[:,0]\n",
    "\n"
   ]
  },
  {
   "cell_type": "markdown",
   "metadata": {
    "id": "iqDWTeRQjSCN"
   },
   "source": [
    "## 1.2 **Binary Classifiers** [4]\n"
   ]
  },
  {
   "cell_type": "markdown",
   "metadata": {},
   "source": [
    "###  1.2.1 logistic regression classifiers between (O & Q)"
   ]
  },
  {
   "cell_type": "code",
   "execution_count": 7,
   "metadata": {
    "id": "pglISaeyjUyK"
   },
   "outputs": [],
   "source": [
    "#split data to ( 80% train,10% test, 10% validate )\n",
    "# selecting images is random\n",
    "X_train, X_test, y_train, y_test = train_test_split(X_O_Q_data, y_O_Q_data, test_size=0.2, random_state=1)\n",
    "\n",
    "X_train, X_val, y_train, y_val = train_test_split(X_train, y_train, test_size=0.25, random_state=1) # 0.25 x 0.8 = 0.2"
   ]
  },
  {
   "cell_type": "code",
   "execution_count": 8,
   "metadata": {
    "id": "fxjXEhtLkPYw"
   },
   "outputs": [],
   "source": [
    "#apply logistic regression model\n",
    "compare_logistic = True\n",
    "\n",
    "if compare_logistic:\n",
    "    from sklearn.linear_model import LogisticRegression\n",
    "    bin_clf = LogisticRegression(max_iter=100, solver='liblinear')\n",
    "    bin_clf.fit(X_train,y_train)\n"
   ]
  },
  {
   "cell_type": "markdown",
   "metadata": {},
   "source": [
    "   ##### 1.2.1.1 Predect with test data"
   ]
  },
  {
   "cell_type": "code",
   "execution_count": 9,
   "metadata": {
    "colab": {
     "base_uri": "https://localhost:8080/",
     "height": 743
    },
    "id": "pXvXSF0wkftG",
    "outputId": "769d238c-cbd0-434d-eb44-d112d43e06ec"
   },
   "outputs": [
    {
     "data": {
      "image/png": "[encoded data removed]",
      "text/plain": [
       "<Figure size 432x288 with 2 Axes>"
      ]
     },
     "metadata": {
      "needs_background": "light"
     },
     "output_type": "display_data"
    },
    {
     "name": "stdout",
     "output_type": "stream",
     "text": [
      "Accuracy: 0.93 %\n",
      "precision: 1.00\n",
      "recall: 0.67\n",
      "f1_score: 0.80\n"
     ]
    }
   ],
   "source": [
    "y_pred = bin_clf.predict(X_test)\n",
    "\n",
    "conf_matrix = confusion_matrix(y_true=y_test, y_pred=y_pred)\n",
    "plot_confusion_matrix(bin_clf, X_test, y_test)  \n",
    "plt.show()\n",
    "TN, FP, FN, TP = confusion_matrix(y_true=y_test, y_pred=y_pred).ravel()\n",
    "\n",
    "Accuracy = (TP + TN)/(TP + TN + FP + FN)\n",
    "print(f\"Accuracy: {Accuracy:4.2f} %\")\n",
    "\n",
    "precision = TP / (TP + FP)\n",
    "print(f\"precision: {precision:4.2f}\")\n",
    "\n",
    "recall = TP / (TP + FN)\n",
    "print(f\"recall: {recall:4.2f}\")\n",
    "\n",
    "f1_score = 2 * precision * recall / (precision + recall)\n",
    "print(f\"f1_score: {f1_score:4.2f}\")\n"
   ]
  },
  {
   "cell_type": "code",
   "execution_count": 10,
   "metadata": {},
   "outputs": [
    {
     "name": "stdout",
     "output_type": "stream",
     "text": [
      "roc_auc_score for Binary Classifiers test:  0.7743055555555556\n"
     ]
    },
    {
     "data": {
      "image/png": "[encoded data removed]",
      "text/plain": [
       "<Figure size 720x720 with 1 Axes>"
      ]
     },
     "metadata": {
      "needs_background": "light"
     },
     "output_type": "display_data"
    }
   ],
   "source": [
    "#############################################\n",
    "# Compute ROC curve and ROC area\n",
    "\n",
    "y_score = bin_clf.fit(X_train, y_train).decision_function(X_test)\n",
    "\n",
    "false_positive_rate1, true_positive_rate1, threshold1 = roc_curve(y_test, y_score)\n",
    "\n",
    "print('roc_auc_score for Binary Classifiers test: ', roc_auc_score(y_test, y_score))\n",
    "\n",
    "\n",
    "plt.subplots(1, figsize=(10,10))\n",
    "plt.title('Receiver Operating Characteristic ')\n",
    "plt.plot(false_positive_rate1, true_positive_rate1)\n",
    "plt.plot([0, 1], ls=\"--\")\n",
    "plt.plot([0, 0], [1, 0] , c=\".7\"), plt.plot([1, 1] , c=\".7\")\n",
    "plt.ylabel('True Positive Rate')\n",
    "plt.xlabel('False Positive Rate')\n",
    "plt.show()"
   ]
  },
  {
   "cell_type": "markdown",
   "metadata": {
    "id": "vo24kBljlOpD"
   },
   "source": [
    "   ##### 1.2.1.2 Predect with train data"
   ]
  },
  {
   "cell_type": "code",
   "execution_count": 11,
   "metadata": {
    "id": "Bm0bZr6klG9D"
   },
   "outputs": [
    {
     "data": {
      "image/png": "[encoded data removed]",
      "text/plain": [
       "<Figure size 432x288 with 2 Axes>"
      ]
     },
     "metadata": {
      "needs_background": "light"
     },
     "output_type": "display_data"
    },
    {
     "name": "stdout",
     "output_type": "stream",
     "text": [
      "Accuracy: 1.00 %\n",
      "precision: 1.00\n",
      "recall: 1.00\n",
      "f1_score: 1.00\n",
      "roc_auc_score for Binary Classifiers test:  1.0\n"
     ]
    },
    {
     "data": {
      "image/png": "[encoded data removed]",
      "text/plain": [
       "<Figure size 720x720 with 1 Axes>"
      ]
     },
     "metadata": {
      "needs_background": "light"
     },
     "output_type": "display_data"
    }
   ],
   "source": [
    "y_pred = bin_clf.predict(X_train)\n",
    "conf_matrix = confusion_matrix(y_true=y_train, y_pred=y_pred)\n",
    "plot_confusion_matrix(bin_clf, X_train, y_train)  \n",
    "plt.show()\n",
    "TN, FP, FN, TP = confusion_matrix(y_true=y_train, y_pred=y_pred).ravel()\n",
    "\n",
    "Accuracy = (TP + TN)/(TP + TN + FP + FN)\n",
    "print(f\"Accuracy: {Accuracy:4.2f} %\")\n",
    "\n",
    "precision = TP / (TP + FP)\n",
    "print(f\"precision: {precision:4.2f}\")\n",
    "\n",
    "recall = TP / (TP + FN)\n",
    "print(f\"recall: {recall:4.2f}\")\n",
    "\n",
    "f1_score = 2 * precision * recall / (precision + recall)\n",
    "print(f\"f1_score: {f1_score:4.2f}\")\n",
    "\n",
    "#############################################\n",
    "# Compute ROC curve and ROC area \n",
    "\n",
    "y_score = bin_clf.fit(X_train, y_train).decision_function(X_train)\n",
    "\n",
    "false_positive_rate1, true_positive_rate1, threshold1 = roc_curve(y_train, y_score)\n",
    "\n",
    "print('roc_auc_score for Binary Classifiers test: ', roc_auc_score(y_train, y_score))\n",
    "\n",
    "\n",
    "plt.subplots(1, figsize=(10,10))\n",
    "plt.title('Receiver Operating Characteristic ')\n",
    "plt.plot(false_positive_rate1, true_positive_rate1)\n",
    "plt.plot([0, 1], ls=\"--\")\n",
    "plt.plot([0, 0], [1, 0] , c=\".7\"), plt.plot([1, 1] , c=\".7\")\n",
    "plt.ylabel('True Positive Rate')\n",
    "plt.xlabel('False Positive Rate')\n",
    "plt.show()\n",
    "\n"
   ]
  },
  {
   "cell_type": "markdown",
   "metadata": {
    "id": "p8K9CCFqm3Zb"
   },
   "source": [
    "###  1.2.2 logistic regression classifiers between (G & 8)"
   ]
  },
  {
   "cell_type": "code",
   "execution_count": 12,
   "metadata": {
    "colab": {
     "base_uri": "https://localhost:8080/"
    },
    "id": "v5Z1VD2ymzdB",
    "outputId": "afe2c5d2-26cf-4892-dadb-a51045867889"
   },
   "outputs": [],
   "source": [
    "y_G_8_data = np.where(y_G_8_data == 2, 0, y_G_8_data)\n",
    "y_G_8_data = np.where(y_G_8_data == 3, 1, y_G_8_data)\n",
    "#split G & 8 data \n",
    "\n",
    "X_train, X_test, y_train, y_test = train_test_split(X_G_8_data, y_G_8_data, test_size=0.1, random_state=122)\n",
    "\n",
    "X_train, X_val, y_train, y_val = train_test_split(X_train, y_train, test_size=0.25, random_state=122) # 0.25 x 0.8 = 0.2\n",
    "\n"
   ]
  },
  {
   "cell_type": "code",
   "execution_count": 13,
   "metadata": {
    "id": "60al8EA-nB13"
   },
   "outputs": [],
   "source": [
    "compare_logistic = True\n",
    "\n",
    "if compare_logistic:\n",
    "    from sklearn.linear_model import LogisticRegression\n",
    "    bin_clf = LogisticRegression(max_iter=100, solver='liblinear',random_state=80)\n",
    "    bin_clf.fit(X_train,y_train)\n"
   ]
  },
  {
   "cell_type": "markdown",
   "metadata": {},
   "source": [
    "#### 1.2.2.1 Predect with test data"
   ]
  },
  {
   "cell_type": "code",
   "execution_count": 14,
   "metadata": {},
   "outputs": [
    {
     "data": {
      "image/png": "[encoded data removed]",
      "text/plain": [
       "<Figure size 432x288 with 2 Axes>"
      ]
     },
     "metadata": {
      "needs_background": "light"
     },
     "output_type": "display_data"
    },
    {
     "name": "stdout",
     "output_type": "stream",
     "text": [
      "Accuracy: 0.89 %\n",
      "precision: 1.00\n",
      "recall: 0.33\n",
      "f1_score: 0.50\n"
     ]
    }
   ],
   "source": [
    "y_pred = bin_clf.predict(X_test)\n",
    "# calcutate and plot confusion matrix\n",
    "conf_matrix = confusion_matrix(y_true=y_test, y_pred=y_pred)\n",
    "plot_confusion_matrix(bin_clf, X_test, y_test)  \n",
    "plt.show()\n",
    "\n",
    "conf_mx_test  = confusion_matrix(y_test, y_pred)\n",
    "conf_matrix = confusion_matrix(y_true=y_test, y_pred=y_pred)\n",
    "\n",
    "TN, FP, FN, TP = confusion_matrix(y_true=y_test, y_pred=y_pred).ravel()\n",
    "\n",
    "Accuracy = (TP + TN)/(TP + TN + FP + FN)\n",
    "print(f\"Accuracy: {Accuracy:4.2f} %\")\n",
    "\n",
    "precision = TP / (TP + FP)\n",
    "print(f\"precision: {precision:4.2f}\")\n",
    "\n",
    "recall = TP / (TP + FN)\n",
    "print(f\"recall: {recall:4.2f}\")\n",
    "\n",
    "f1_score = 2 * precision * recall / (precision + recall)\n",
    "print(f\"f1_score: {f1_score:4.2f}\")"
   ]
  },
  {
   "cell_type": "code",
   "execution_count": 15,
   "metadata": {
    "colab": {
     "base_uri": "https://localhost:8080/"
    },
    "id": "A8P4vYUFod_W",
    "outputId": "f2c4e70f-1eff-4d19-cdb1-c6b511c8b919",
    "scrolled": true
   },
   "outputs": [
    {
     "data": {
      "image/png": "[encoded data removed]",
      "text/plain": [
       "<Figure size 720x720 with 1 Axes>"
      ]
     },
     "metadata": {
      "needs_background": "light"
     },
     "output_type": "display_data"
    }
   ],
   "source": [
    "# plot ROC Curve\n",
    "y_score = bin_clf.fit(X_train, y_train).decision_function(X_test)\n",
    "\n",
    "false_positive_rate1, true_positive_rate1, threshold1 = roc_curve(y_test, y_score)\n",
    "\n",
    "#print('roc_auc_score : ', roc_auc_score(y_test, y_score))\n",
    "\n",
    "\n",
    "plt.subplots(1, figsize=(10,10))\n",
    "plt.title('Receiver Operating Characteristic ')\n",
    "plt.plot(false_positive_rate1, true_positive_rate1)\n",
    "plt.plot([0, 1], ls=\"--\")\n",
    "plt.plot([0, 0], [1, 0] , c=\".7\"), plt.plot([1, 1] , c=\".7\")\n",
    "plt.ylabel('True Positive Rate')\n",
    "plt.xlabel('False Positive Rate')\n",
    "plt.show()"
   ]
  },
  {
   "cell_type": "markdown",
   "metadata": {},
   "source": [
    "#### 1.2.2.2 Predect with train data"
   ]
  },
  {
   "cell_type": "code",
   "execution_count": 16,
   "metadata": {},
   "outputs": [
    {
     "data": {
      "image/png": "[encoded data removed]",
      "text/plain": [
       "<Figure size 432x288 with 2 Axes>"
      ]
     },
     "metadata": {
      "needs_background": "light"
     },
     "output_type": "display_data"
    }
   ],
   "source": [
    "y_pred = bin_clf.predict(X_train)\n",
    "\n",
    "conf_matrix = confusion_matrix(y_true=y_train, y_pred=y_pred)\n",
    "plot_confusion_matrix(bin_clf, X_train, y_train)  \n",
    "plt.show()\n",
    "conf_mx_test  = confusion_matrix(y_train, y_pred)"
   ]
  },
  {
   "cell_type": "code",
   "execution_count": 17,
   "metadata": {},
   "outputs": [
    {
     "name": "stdout",
     "output_type": "stream",
     "text": [
      "Accuracy: 1.00 %\n",
      "precision: 1.00\n",
      "recall: 1.00\n",
      "f1_score: 1.00\n"
     ]
    }
   ],
   "source": [
    "# Calculate the confusion matrix\n",
    "\n",
    "conf_matrix = confusion_matrix(y_true=y_train, y_pred=y_pred)\n",
    "\n",
    "TN, FP, FN, TP = confusion_matrix(y_true=y_train, y_pred=y_pred).ravel()\n",
    "\n",
    "Accuracy = (TP + TN)/(TP + TN + FP + FN)\n",
    "print(f\"Accuracy: {Accuracy:4.2f} %\")\n",
    "\n",
    "precision = TP / (TP + FP)\n",
    "print(f\"precision: {precision:4.2f}\")\n",
    "\n",
    "recall = TP / (TP + FN)\n",
    "print(f\"recall: {recall:4.2f}\")\n",
    "\n",
    "f1_score = 2 * precision * recall / (precision + recall)\n",
    "print(f\"f1_score: {f1_score:4.2f}\")"
   ]
  },
  {
   "cell_type": "code",
   "execution_count": 18,
   "metadata": {},
   "outputs": [
    {
     "name": "stdout",
     "output_type": "stream",
     "text": [
      "roc_auc_score :  1.0\n"
     ]
    },
    {
     "data": {
      "image/png": "[encoded data removed]",
      "text/plain": [
       "<Figure size 720x720 with 1 Axes>"
      ]
     },
     "metadata": {
      "needs_background": "light"
     },
     "output_type": "display_data"
    }
   ],
   "source": [
    "\n",
    "y_score = bin_clf.fit(X_train, y_train).decision_function(X_train)\n",
    "\n",
    "false_positive_rate1, true_positive_rate1, threshold1 = roc_curve(y_train, y_score)\n",
    "\n",
    "print('roc_auc_score : ', roc_auc_score(y_train, y_score))\n",
    "\n",
    "\n",
    "plt.subplots(1, figsize=(10,10))\n",
    "plt.title('Receiver Operating Characteristic ')\n",
    "plt.plot(false_positive_rate1, true_positive_rate1)\n",
    "plt.plot([0, 1], ls=\"--\")\n",
    "plt.plot([0, 0], [1, 0] , c=\".7\"), plt.plot([1, 1] , c=\".7\")\n",
    "plt.ylabel('True Positive Rate')\n",
    "plt.xlabel('False Positive Rate')\n",
    "plt.show()"
   ]
  },
  {
   "cell_type": "markdown",
   "metadata": {
    "id": "E6957GKsmpT0"
   },
   "source": [
    "## 1.3 Multiclass Classifier [3]\n"
   ]
  },
  {
   "cell_type": "code",
   "execution_count": 19,
   "metadata": {},
   "outputs": [],
   "source": [
    "#select feature and lables \n",
    "X_data = Data[:,1:]\n",
    "y_data = Data[:,0]\n",
    "#split data to train, test, validate\n",
    "X_train, X_test, y_train, y_test = train_test_split(X_data, y_data, test_size=0.2, random_state=1)\n",
    "\n",
    "X_train, X_val, y_train, y_val = train_test_split(X_train, y_train, test_size=0.25, random_state=1) # 0.25 x 0.8 = 0.2\n"
   ]
  },
  {
   "cell_type": "code",
   "execution_count": 20,
   "metadata": {},
   "outputs": [
    {
     "name": "stdout",
     "output_type": "stream",
     "text": [
      "Iteration 1, loss = 1.34623911\n",
      "Iteration 2, loss = 1.28686984\n",
      "Iteration 3, loss = 1.35210726\n",
      "Iteration 4, loss = 1.23401112\n",
      "Iteration 5, loss = 1.18125178\n",
      "Iteration 6, loss = 1.15709490\n",
      "Iteration 7, loss = 1.12896887\n",
      "Iteration 8, loss = 1.16993046\n",
      "Iteration 9, loss = 1.13630362\n",
      "Iteration 10, loss = 1.08302122\n",
      "Iteration 11, loss = 1.07296478\n",
      "Iteration 12, loss = 1.03678298\n",
      "Iteration 13, loss = 1.01202002\n",
      "Iteration 14, loss = 1.14285490\n",
      "Iteration 15, loss = 0.96694372\n",
      "Iteration 16, loss = 0.98587606\n",
      "Iteration 17, loss = 1.04585456\n",
      "Iteration 18, loss = 0.95006805\n",
      "Iteration 19, loss = 0.92496850\n",
      "Iteration 20, loss = 0.89818925\n",
      "Iteration 21, loss = 0.89156035\n",
      "Iteration 22, loss = 0.84313989\n",
      "Iteration 23, loss = 0.83976889\n",
      "Iteration 24, loss = 0.83804749\n",
      "Iteration 25, loss = 0.88769626\n",
      "Iteration 26, loss = 0.81072820\n",
      "Iteration 27, loss = 0.78395950\n",
      "Iteration 28, loss = 0.76666163\n",
      "Iteration 29, loss = 0.79946145\n",
      "Iteration 30, loss = 0.77831408\n",
      "Iteration 31, loss = 0.76283554\n",
      "Iteration 32, loss = 0.69552395\n",
      "Iteration 33, loss = 0.68512765\n",
      "Iteration 34, loss = 0.70394997\n",
      "Iteration 35, loss = 0.67440836\n",
      "Iteration 36, loss = 0.65525469\n",
      "Iteration 37, loss = 0.68306044\n",
      "Iteration 38, loss = 0.63291129\n",
      "Iteration 39, loss = 0.65539498\n",
      "Iteration 40, loss = 0.62143643\n",
      "Iteration 41, loss = 0.60821849\n",
      "Iteration 42, loss = 0.60003218\n",
      "Iteration 43, loss = 0.61328516\n",
      "Iteration 44, loss = 0.58809818\n",
      "Iteration 45, loss = 0.62235404\n",
      "Iteration 46, loss = 0.54556817\n",
      "Iteration 47, loss = 0.53124921\n",
      "Iteration 48, loss = 0.55327837\n",
      "Iteration 49, loss = 0.56266176\n",
      "Iteration 50, loss = 0.51920965\n",
      "Iteration 51, loss = 0.51128950\n",
      "Iteration 52, loss = 0.50635040\n",
      "Iteration 53, loss = 0.50635501\n",
      "Iteration 54, loss = 0.48128798\n",
      "Iteration 55, loss = 0.46941471\n",
      "Iteration 56, loss = 0.50525470\n",
      "Iteration 57, loss = 0.45662161\n",
      "Iteration 58, loss = 0.56350738\n",
      "Iteration 59, loss = 0.47425313\n",
      "Iteration 60, loss = 0.44300956\n",
      "Iteration 61, loss = 0.42604211\n",
      "Iteration 62, loss = 0.42214346\n",
      "Iteration 63, loss = 0.43687009\n",
      "Iteration 64, loss = 0.42519854\n",
      "Iteration 65, loss = 0.41246302\n",
      "Iteration 66, loss = 0.40426635\n",
      "Iteration 67, loss = 0.39360232\n",
      "Iteration 68, loss = 0.39631655\n",
      "Iteration 69, loss = 0.42287440\n",
      "Iteration 70, loss = 0.37362483\n",
      "Iteration 71, loss = 0.37166128\n",
      "Iteration 72, loss = 0.35857928\n",
      "Iteration 73, loss = 0.35481445\n",
      "Iteration 74, loss = 0.35321829\n",
      "Iteration 75, loss = 0.34955360\n",
      "Iteration 76, loss = 0.34098617\n",
      "Iteration 77, loss = 0.33707202\n",
      "Iteration 78, loss = 0.35145750\n",
      "Iteration 79, loss = 0.33232508\n",
      "Iteration 80, loss = 0.32157410\n",
      "Iteration 81, loss = 0.32157075\n",
      "Iteration 82, loss = 0.31297088\n",
      "Iteration 83, loss = 0.34479220\n",
      "Iteration 84, loss = 0.30986374\n",
      "Iteration 85, loss = 0.32940052\n",
      "Iteration 86, loss = 0.29811465\n",
      "Iteration 87, loss = 0.29965837\n",
      "Iteration 88, loss = 0.29350778\n",
      "Iteration 89, loss = 0.28591194\n",
      "Iteration 90, loss = 0.28771312\n",
      "Iteration 91, loss = 0.29011677\n",
      "Iteration 92, loss = 0.28751269\n",
      "Iteration 93, loss = 0.29208700\n",
      "Iteration 94, loss = 0.27970432\n",
      "Iteration 95, loss = 0.27505577\n",
      "Iteration 96, loss = 0.26839450\n",
      "Iteration 97, loss = 0.26660176\n",
      "Iteration 98, loss = 0.25976032\n",
      "Iteration 99, loss = 0.27274418\n",
      "Iteration 100, loss = 0.26563219\n"
     ]
    },
    {
     "name": "stderr",
     "output_type": "stream",
     "text": [
      "C:\\Users\\eslam\\anaconda3\\lib\\site-packages\\sklearn\\neural_network\\_multilayer_perceptron.py:614: ConvergenceWarning: Stochastic Optimizer: Maximum iterations (100) reached and the optimization hasn't converged yet.\n",
      "  warnings.warn(\n"
     ]
    },
    {
     "data": {
      "text/plain": [
       "MLPClassifier(max_iter=100, solver='sgd', validation_fraction=0.0,\n",
       "              verbose='true')"
      ]
     },
     "execution_count": 20,
     "metadata": {},
     "output_type": "execute_result"
    }
   ],
   "source": [
    "nn_mclf = MLPClassifier(max_iter=100,solver='sgd',verbose='true',validation_fraction=0.0)\n",
    "\n",
    "nn_mclf.fit(X_train, y_train)\n"
   ]
  },
  {
   "cell_type": "markdown",
   "metadata": {},
   "source": [
    "### 1.3.1 Predect with test data"
   ]
  },
  {
   "cell_type": "code",
   "execution_count": 21,
   "metadata": {},
   "outputs": [
    {
     "data": {
      "image/png": "[encoded data removed]",
      "text/plain": [
       "<Figure size 432x288 with 2 Axes>"
      ]
     },
     "metadata": {
      "needs_background": "light"
     },
     "output_type": "display_data"
    }
   ],
   "source": [
    "y_pred = nn_mclf.predict(X_test)\n",
    "\n",
    "conf_matrix = confusion_matrix(y_true=y_test, y_pred=y_pred)\n",
    "plot_confusion_matrix(nn_mclf, X_test, y_test)  \n",
    "plt.show()\n"
   ]
  },
  {
   "cell_type": "code",
   "execution_count": 22,
   "metadata": {},
   "outputs": [
    {
     "name": "stdout",
     "output_type": "stream",
     "text": [
      "Accuracy: [0.86842105 0.89473684 0.76315789 0.94736842] %\n",
      "precision: [0.83870968 0.75       0.65789474 0.66666667]\n",
      "recall: [0.83870968 0.3        0.83333333 0.4       ]\n",
      "f1_score: [0.83870968 0.42857143 0.73529412 0.5       ]\n"
     ]
    }
   ],
   "source": [
    "#calcute FP,FN,TP and TN to calcute Accuracy, precision, recall and F1 score\n",
    "FP = conf_matrix.sum(axis=0) - np.diag(conf_matrix)  \n",
    "FN = conf_matrix.sum(axis=1) - np.diag(conf_matrix)\n",
    "TP = np.diag(conf_matrix)\n",
    "TN = conf_matrix.sum() - (FP + FN + TP)\n",
    "\n",
    "FP = FP.astype(float)\n",
    "FN = FN.astype(float)\n",
    "TP = TP.astype(float)\n",
    "TN = TN.astype(float)\n",
    "\n",
    "# Sensitivity, hit rate, recall, or true positive rate\n",
    "TPR = TP/(TP+FN)\n",
    "# Specificity or true negative rate\n",
    "TNR = TN/(TN+FP) \n",
    "\n",
    "Accuracy = (TP + TN)/(TP + TN + FP + FN)\n",
    "print(f\"Accuracy: {Accuracy} %\")\n",
    "\n",
    "precision = TP / (TP + FP)\n",
    "print(f\"precision: {precision}\")\n",
    "\n",
    "recall = TP / (TP + FN)\n",
    "print(f\"recall: {recall}\")\n",
    "\n",
    "f1_score = 2 * precision * recall / (precision + recall)\n",
    "print(f\"f1_score: {f1_score}\")\n"
   ]
  },
  {
   "cell_type": "code",
   "execution_count": 23,
   "metadata": {},
   "outputs": [
    {
     "data": {
      "image/png": "[encoded data removed]",
      "text/plain": [
       "<Figure size 432x288 with 1 Axes>"
      ]
     },
     "metadata": {
      "needs_background": "light"
     },
     "output_type": "display_data"
    }
   ],
   "source": [
    "# Compute ROC curve and ROC area for each class\n",
    "\n",
    "# roc curve for classes\n",
    "fpr = {}\n",
    "tpr = {}\n",
    "thresh ={}\n",
    "\n",
    "n_class = 4\n",
    "y_prob_pred_cnb = nn_mclf.predict_proba(X_test)\n",
    "\n",
    "for i in range(n_class):    \n",
    "    fpr[i], tpr[i], thresh[i] = roc_curve(y_test, y_prob_pred_cnb[:,i], pos_label=i)\n",
    "    \n",
    "# plotting    \n",
    "plt.plot(fpr[0], tpr[0], linestyle='--',color='orange', label='Class 0 vs Rest')\n",
    "plt.plot(fpr[1], tpr[1], linestyle='--',color='green', label='Class 1 vs Rest')\n",
    "plt.plot(fpr[2], tpr[2], linestyle='--',color='blue', label='Class 2 vs Rest')\n",
    "plt.plot(fpr[3], tpr[3], linestyle='--',color='yellow', label='Class 3 vs Rest')\n",
    "plt.title('Multiclass ROC curve')\n",
    "plt.xlabel('False Positive Rate')\n",
    "plt.ylabel('True Positive rate')\n",
    "plt.legend(loc='best')\n",
    "plt.savefig('Multiclass ROC',dpi=300); \n",
    "\n",
    "\n"
   ]
  },
  {
   "cell_type": "markdown",
   "metadata": {},
   "source": [
    "### 1.3.2 Predect with train data"
   ]
  },
  {
   "cell_type": "code",
   "execution_count": 24,
   "metadata": {},
   "outputs": [
    {
     "data": {
      "image/png": "[encoded data removed]",
      "text/plain": [
       "<Figure size 432x288 with 2 Axes>"
      ]
     },
     "metadata": {
      "needs_background": "light"
     },
     "output_type": "display_data"
    }
   ],
   "source": [
    "y_pred = nn_mclf.predict(X_train)\n",
    "\n",
    "conf_matrix = confusion_matrix(y_true=y_train, y_pred=y_pred)\n",
    "plot_confusion_matrix(nn_mclf, X_train, y_train)  \n",
    "plt.show()"
   ]
  },
  {
   "cell_type": "code",
   "execution_count": 25,
   "metadata": {},
   "outputs": [
    {
     "name": "stdout",
     "output_type": "stream",
     "text": [
      "[0.99555556 1.         0.98222222 0.98666667]\n",
      "precision: [1.         1.         0.95744681 1.        ]\n",
      "recall: [0.98823529 1.         1.         0.86956522]\n",
      "f1_score: [0.99408284 1.         0.97826087 0.93023256]\n"
     ]
    }
   ],
   "source": [
    "\n",
    "FP = conf_matrix.sum(axis=0) - np.diag(conf_matrix)  \n",
    "FN = conf_matrix.sum(axis=1) - np.diag(conf_matrix)\n",
    "TP = np.diag(conf_matrix)\n",
    "TN = conf_matrix.sum() - (FP + FN + TP)\n",
    "\n",
    "FP = FP.astype(float)\n",
    "FN = FN.astype(float)\n",
    "TP = TP.astype(float)\n",
    "TN = TN.astype(float)\n",
    "\n",
    "# Sensitivity, hit rate, recall, or true positive rate\n",
    "TPR = TP/(TP+FN)\n",
    "# Specificity or true negative rate\n",
    "TNR = TN/(TN+FP) \n",
    "\n",
    "Accuracy = (TP + TN)/(TP + TN + FP + FN)\n",
    "print(Accuracy)\n",
    "\n",
    "precision = TP / (TP + FP)\n",
    "print(f\"precision: {precision}\")\n",
    "\n",
    "recall = TP / (TP + FN)\n",
    "print(f\"recall: {recall}\")\n",
    "\n",
    "f1_score = 2 * precision * recall / (precision + recall)\n",
    "print(f\"f1_score: {f1_score}\")\n"
   ]
  },
  {
   "cell_type": "code",
   "execution_count": 26,
   "metadata": {},
   "outputs": [
    {
     "data": {
      "image/png": "[encoded data removed]",
      "text/plain": [
       "<Figure size 432x288 with 1 Axes>"
      ]
     },
     "metadata": {
      "needs_background": "light"
     },
     "output_type": "display_data"
    }
   ],
   "source": [
    "\n",
    "# Compute ROC curve and ROC area for each class\n",
    "\n",
    "\n",
    "# roc curve for classes\n",
    "fpr = {}\n",
    "tpr = {}\n",
    "thresh ={}\n",
    "\n",
    "n_class = 4\n",
    "y_prob_pred_cnb = nn_mclf.predict_proba(X_train)\n",
    "\n",
    "for i in range(n_class):    \n",
    "    fpr[i], tpr[i], thresh[i] = roc_curve(y_train, y_prob_pred_cnb[:,i], pos_label=i)\n",
    "    \n",
    "# plotting    \n",
    "plt.plot(fpr[0], tpr[0], linestyle='--',color='orange', label='Class 0 vs Rest')\n",
    "plt.plot(fpr[1], tpr[1], linestyle='--',color='green', label='Class 1 vs Rest')\n",
    "plt.plot(fpr[2], tpr[2], linestyle='--',color='blue', label='Class 2 vs Rest')\n",
    "plt.plot(fpr[3], tpr[3], linestyle='--',color='yellow', label='Class 3 vs Rest')\n",
    "plt.title('Multiclass ROC curve')\n",
    "plt.xlabel('False Positive Rate')\n",
    "plt.ylabel('True Positive rate')\n",
    "plt.legend(loc='best')\n",
    "plt.savefig('Multiclass ROC',dpi=300); \n"
   ]
  }
 ],
 "metadata": {
  "colab": {
   "name": "CV Ass 1.ipynb",
   "provenance": []
  },
  "kernelspec": {
   "display_name": "Python 3",
   "language": "python",
   "name": "python3"
  },
  "language_info": {
   "codemirror_mode": {
    "name": "ipython",
    "version": 3
   },
   "file_extension": ".py",
   "mimetype": "text/x-python",
   "name": "python",
   "nbconvert_exporter": "python",
   "pygments_lexer": "ipython3",
   "version": "3.8.8"
  }
 },
 "nbformat": 4,
 "nbformat_minor": 1
}
